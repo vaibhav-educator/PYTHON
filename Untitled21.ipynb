{
  "nbformat": 4,
  "nbformat_minor": 0,
  "metadata": {
    "colab": {
      "provenance": [],
      "authorship_tag": "ABX9TyPgPnLm/VWL0YZQkb3A2O6h",
      "include_colab_link": true
    },
    "kernelspec": {
      "name": "python3",
      "display_name": "Python 3"
    },
    "language_info": {
      "name": "python"
    }
  },
  "cells": [
    {
      "cell_type": "markdown",
      "metadata": {
        "id": "view-in-github",
        "colab_type": "text"
      },
      "source": [
        "<a href=\"https://colab.research.google.com/github/vaibhav-educator/PYTHON/blob/main/Untitled21.ipynb\" target=\"_parent\"><img src=\"https://colab.research.google.com/assets/colab-badge.svg\" alt=\"Open In Colab\"/></a>"
      ]
    },
    {
      "cell_type": "code",
      "execution_count": 2,
      "metadata": {
        "colab": {
          "base_uri": "https://localhost:8080/",
          "height": 228
        },
        "id": "4Ce6jU3TTz6D",
        "outputId": "3fad3786-f1a0-440a-d87e-87f4f35699bc"
      },
      "outputs": [
        {
          "name": "stdout",
          "output_type": "stream",
          "text": [
            "enter the 1st number5.5\n"
          ]
        },
        {
          "output_type": "error",
          "ename": "ValueError",
          "evalue": "invalid literal for int() with base 10: '5.5'",
          "traceback": [
            "\u001b[0;31m---------------------------------------------------------------------------\u001b[0m",
            "\u001b[0;31mValueError\u001b[0m                                Traceback (most recent call last)",
            "\u001b[0;32m/tmp/ipython-input-2171679291.py\u001b[0m in \u001b[0;36m<cell line: 0>\u001b[0;34m()\u001b[0m\n\u001b[0;32m----> 1\u001b[0;31m \u001b[0ma\u001b[0m\u001b[0;34m=\u001b[0m\u001b[0mint\u001b[0m\u001b[0;34m(\u001b[0m\u001b[0minput\u001b[0m\u001b[0;34m(\u001b[0m\u001b[0;34m\"enter the 1st number\"\u001b[0m\u001b[0;34m)\u001b[0m\u001b[0;34m)\u001b[0m \u001b[0;31m# INPUT 1\u001b[0m\u001b[0;34m\u001b[0m\u001b[0;34m\u001b[0m\u001b[0m\n\u001b[0m\u001b[1;32m      2\u001b[0m \u001b[0mb\u001b[0m\u001b[0;34m=\u001b[0m\u001b[0mint\u001b[0m\u001b[0;34m(\u001b[0m\u001b[0minput\u001b[0m\u001b[0;34m(\u001b[0m\u001b[0;34m\"enter the 2nd number\"\u001b[0m\u001b[0;34m)\u001b[0m\u001b[0;34m)\u001b[0m \u001b[0;31m# INPUT 2\u001b[0m\u001b[0;34m\u001b[0m\u001b[0;34m\u001b[0m\u001b[0m\n\u001b[1;32m      3\u001b[0m \u001b[0mo\u001b[0m\u001b[0;34m=\u001b[0m\u001b[0mstr\u001b[0m\u001b[0;34m(\u001b[0m\u001b[0minput\u001b[0m\u001b[0;34m(\u001b[0m\u001b[0;34m\"enter the operator +,-,*,/\"\u001b[0m\u001b[0;34m)\u001b[0m\u001b[0;34m)\u001b[0m  \u001b[0;31m#INPUT-OPERATOR\u001b[0m\u001b[0;34m\u001b[0m\u001b[0;34m\u001b[0m\u001b[0m\n\u001b[1;32m      4\u001b[0m \u001b[0;34m\u001b[0m\u001b[0m\n\u001b[1;32m      5\u001b[0m \u001b[0;32mif\u001b[0m\u001b[0;34m(\u001b[0m\u001b[0mo\u001b[0m\u001b[0;34m==\u001b[0m\u001b[0;34m\"+\"\u001b[0m\u001b[0;34m)\u001b[0m\u001b[0;34m:\u001b[0m        \u001b[0;31m#IF Block\u001b[0m\u001b[0;34m\u001b[0m\u001b[0;34m\u001b[0m\u001b[0m\n",
            "\u001b[0;31mValueError\u001b[0m: invalid literal for int() with base 10: '5.5'"
          ]
        }
      ],
      "source": [
        "a=int(input(\"enter the 1st number\")) # INPUT 1\n",
        "b=int(input(\"enter the 2nd number\")) # INPUT 2\n",
        "o=str(input(\"enter the operator +,-,*,/\"))  #INPUT-OPERATOR\n",
        "\n",
        "if(o==\"+\"):        #IF Block\n",
        "    print(\"sum of 2 nums =\",a+b)\n",
        "elif(o==\"-\"):      # Elif block 1\n",
        "    print(\"difference of 2 nums =\",a-b)\n",
        "elif(o==\"*\"):      # Elif Block 2\n",
        "    print(\"product of 2 nums =\",a*b)\n",
        "elif(o==\"/\"):      # elif block 3\n",
        "    print(\"quotient of 2 nums =\",a/b)\n",
        "else:             # Else block\n",
        "    print(\"Wrong Input\")"
      ]
    },
    {
      "cell_type": "code",
      "source": [
        "account_balance = 10000\n",
        "while True:\n",
        "    withdrwal = int(input(\"enter the amount in 100, 200, 500: \"))\n",
        "    if withdrwal%100!=0:\n",
        "        print(\"Not multiple of 100\")\n",
        "    elif withdrwal > account_balance:\n",
        "        print(\"insuffient fund \")\n",
        "    else:\n",
        "        account_balance -= withdrwal\n",
        "        print(\"withdrawn amount: \", withdrwal)\n",
        "        print(\"Remaining balance : \", account_balance)\n",
        "        break\n",
        "#print(\"no funds\")"
      ],
      "metadata": {
        "id": "kgdFZ89sWvwn"
      },
      "execution_count": null,
      "outputs": []
    },
    {
      "cell_type": "code",
      "source": [
        "# gussing game\n",
        "import random\n",
        "target = random.randint(1,100)\n",
        "guess = 0\n",
        "attempt = 0\n",
        "while guess != target:\n",
        "    guess = int(input(\"enter the number between 1 to 100: \"))\n",
        "    attempt +=1\n",
        "    if guess > target:\n",
        "        print(\"try with lower number\")\n",
        "    elif guess < target:\n",
        "        print(\"try with larger number\")\n",
        "    else:\n",
        "        print(\"You guessed correctly\")\n",
        "        print(\"total attempt taken : \" ,attempt)"
      ],
      "metadata": {
        "id": "JAgUkci4Xrua"
      },
      "execution_count": null,
      "outputs": []
    }
  ]
}